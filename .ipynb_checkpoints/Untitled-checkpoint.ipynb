{
 "cells": [
  {
   "cell_type": "code",
   "execution_count": 2,
   "id": "22d951ba-89c3-4c5c-a85a-7c49199d6998",
   "metadata": {},
   "outputs": [
    {
     "name": "stdout",
     "output_type": "stream",
     "text": [
      "Conversion completed and saved to grayscale directory.\n"
     ]
    }
   ],
   "source": [
    "import os\n",
    "from PIL import Image\n",
    "\n",
    "import cv2\n",
    "import numpy as np\n",
    "# Import necessary libraries\n",
    "import os\n",
    "import cv2\n",
    "import numpy as np\n",
    "import matplotlib.pyplot as plt\n",
    "import seaborn as sns\n",
    "from collections import Counter\n",
    "from sklearn.model_selection import train_test_split\n",
    "from sklearn.metrics import classification_report, confusion_matrix\n",
    "from skimage.feature import hog\n",
    "from tensorflow.keras.models import Sequential\n",
    "from tensorflow.keras.layers import Conv2D, MaxPooling2D, Flatten, Dense, Dropout\n",
    "from tensorflow.keras.utils import to_categorical\n",
    "from tensorflow.keras.preprocessing.image import ImageDataGenerator\n",
    "from tensorflow.keras.callbacks import EarlyStopping\n",
    "\n",
    "\n",
    "\n",
    "# Section 1: Convert images to grayscale and save them as black-and-white images in the 'grayscale' directory.\n",
    "# This section reads images from the 'data' directory, converts them to grayscale, and then to pure black-and-white \n",
    "# using a threshold of 128. The processed images are saved to a new directory named 'grayscale'.\n",
    "output_dir = \"grayscale\"\n",
    "os.makedirs(output_dir, exist_ok=True)\n",
    "\n",
    "for i in range(1, 17):\n",
    "    img_path = \"data/\"+f\"{i}.jpg\"\n",
    "    img = Image.open(img_path).convert('L')  # Convert to grayscale\n",
    "    bw_img = img.point(lambda x: 0 if x < 128 else 255, '1')  # Convert to black and white\n",
    "    bw_img.save(os.path.join(output_dir, f\"{i}_bw.jpg\"))\n",
    "\n",
    "print(\"Conversion completed and saved to grayscale directory.\")\n",
    "\n"
   ]
  },
  {
   "cell_type": "code",
   "execution_count": 3,
   "id": "73d72cac-a131-4d4e-9f18-e9d69428d58a",
   "metadata": {},
   "outputs": [
    {
     "name": "stdout",
     "output_type": "stream",
     "text": [
      "Cell extraction completed. All cells saved to 'all_cells' directory.\n"
     ]
    }
   ],
   "source": [
    "# Section 2: Extract cells from the black-and-white images and save all extracted cells in a single folder within the 'all_cells' directory.\n",
    "# This section processes each image to extract cells by detecting the horizontal and vertical lines in the table structure.\n",
    "# After detecting contours of reasonable size, all extracted cells are saved in one directory called 'all_cells'.\n",
    "\n",
    "output_dir = \"all_cells\"\n",
    "os.makedirs(output_dir, exist_ok=True)\n",
    "\n",
    "def extract_cells(image_path, output_dir, image_index):\n",
    "    # Read the black and white image\n",
    "    img = cv2.imread(image_path, cv2.IMREAD_GRAYSCALE)\n",
    "\n",
    "    # Convert the image to binary using thresholding\n",
    "    _, binary = cv2.threshold(img, 128, 255, cv2.THRESH_BINARY_INV)\n",
    "\n",
    "    # Detect horizontal and vertical lines using morphological operations\n",
    "    horizontal_kernel = cv2.getStructuringElement(cv2.MORPH_RECT, (40, 1))\n",
    "    detect_horizontal = cv2.morphologyEx(binary, cv2.MORPH_OPEN, horizontal_kernel, iterations=2)\n",
    "    vertical_kernel = cv2.getStructuringElement(cv2.MORPH_RECT, (1, 40))\n",
    "    detect_vertical = cv2.morphologyEx(binary, cv2.MORPH_OPEN, vertical_kernel, iterations=2)\n",
    "\n",
    "    # Combine horizontal and vertical lines to detect table structure and find contours\n",
    "    table_structure = cv2.add(detect_horizontal, detect_vertical)\n",
    "    contours, _ = cv2.findContours(table_structure, cv2.RETR_TREE, cv2.CHAIN_APPROX_SIMPLE)\n",
    "\n",
    "    # Sort contours and extract cells based on area constraints\n",
    "    contours = sorted(contours, key=lambda c: cv2.boundingRect(c)[1] * img.shape[1] + cv2.boundingRect(c)[0])\n",
    "    cells = [img[y:y+h, x:x+w] for x, y, w, h in (cv2.boundingRect(contour) for contour in contours) if 300000 < w * h < 1350000]\n",
    "\n",
    "    # Save each cell in the 'all_cells' directory\n",
    "    for idx, cell_img in enumerate(cells, start=1):\n",
    "        cell_filename = f\"image_{image_index}_cell_{idx}.jpg\"\n",
    "        cv2.imwrite(os.path.join(output_dir, cell_filename), cell_img)\n",
    "\n",
    "# Loop through the black and white images and extract cells\n",
    "for i in range(1, 17):\n",
    "    img_path = f\"grayscale/{i}_bw.jpg\"\n",
    "    extract_cells(img_path, output_dir, i)\n",
    "\n",
    "print(\"Cell extraction completed. All cells saved to 'all_cells' directory.\")\n"
   ]
  },
  {
   "cell_type": "code",
   "execution_count": null,
   "id": "c235140e-dac0-4adf-83b6-ed44c403e254",
   "metadata": {},
   "outputs": [],
   "source": []
  }
 ],
 "metadata": {
  "kernelspec": {
   "display_name": "Python 3 (ipykernel)",
   "language": "python",
   "name": "python3"
  },
  "language_info": {
   "codemirror_mode": {
    "name": "ipython",
    "version": 3
   },
   "file_extension": ".py",
   "mimetype": "text/x-python",
   "name": "python",
   "nbconvert_exporter": "python",
   "pygments_lexer": "ipython3",
   "version": "3.12.3"
  }
 },
 "nbformat": 4,
 "nbformat_minor": 5
}
